{
 "cells": [
  {
   "cell_type": "code",
   "execution_count": 140,
   "metadata": {
    "collapsed": true
   },
   "outputs": [],
   "source": [
    "using Chemfiles\n",
    "using ArgParse"
   ]
  },
  {
   "cell_type": "code",
   "execution_count": 2,
   "metadata": {},
   "outputs": [
    {
     "data": {
      "text/plain": [
       "displaceAtoms (generic function with 1 method)"
      ]
     },
     "execution_count": 2,
     "metadata": {},
     "output_type": "execute_result"
    }
   ],
   "source": [
    "##########\n",
    "# functions\n",
    "##########\n",
    "function read_ptraj_modes(file, modes_elements, norma::Bool=true)\n",
    "    modes_file = open(file, \"r\")\n",
    "    modes_text = readdlm(modes_file, skipstart=0, skipblanks=true,\n",
    "    ignore_invalid_chars=true, comments=true, comment_char='\\*')\n",
    "    close(modes_file)\n",
    "\n",
    "    nmodes = modes_text[1, 5]\n",
    "    ncoords = convert(Int64, modes_elements)\n",
    "    lines = ceil(Int64, ncoords/7)\n",
    "    rest = convert(Int64, ncoords % 7)\n",
    "\n",
    "    eval = Array{Float64}(nmodes);\n",
    "    mode = Array{Float64}(ncoords, nmodes);\n",
    "    temp1 = Array{Float64}(ncoords, 1);\n",
    "    temp2 = Array{Float64}(ncoords+(7-rest));\n",
    "\n",
    "    j = lines + 1 + 2 # 1 p/ q lea la prox linea 2 por el header\n",
    "\n",
    "    for i = 1:nmodes\n",
    "        eval[i] = modes_text[j, 2]\n",
    "        temp = transpose(modes_text[(j+1):(lines+j), :])\n",
    "        temp2 = reshape(temp, ncoords+(7-rest))\n",
    "        for k=(rest+1):7\n",
    "            pop!(temp2)\n",
    "        end\n",
    "    mode[:, i] = temp2\n",
    "        j = j + lines + 1\n",
    "    end\n",
    "\n",
    "    if norma == true\n",
    "        for i=1:nmodes\n",
    "            mode[: ,i] = mode[:, i] / norm(mode[:, i])\n",
    "        end\n",
    "    end\n",
    "\n",
    "    return mode, eval\n",
    "end\n",
    "#########\n",
    "\n",
    "#########\n",
    "function displaceAtoms(mod_pdb, vector1, multiplier)\n",
    "  # Preparo variables\n",
    "    pdb = copy(mod_pdb)\n",
    "    struct_xyz = coordinatesmatrix(pdb)\n",
    "#    new_struct_xyz = copy(struct_xyz)\n",
    "    vector = Array{Float64}(1, 3)\n",
    "\n",
    "    # Adapto el vector p/ darle la misma forma q la matriz de coordenadas\n",
    "    for i = 1:3:length(vector1)\n",
    "        if i== 1\n",
    "            vector = reshape(vector1[i:i+2], 1, 3)\n",
    "            continue\n",
    "        end\n",
    "        vector = vcat(vector, reshape(vector1[i:i+2], 1, 3))\n",
    "    end\n",
    "\n",
    "    # Listo, ahora puedo mover el pdb\n",
    "    new_struct_xyz  = struct_xyz + vector .* multiplier\n",
    "    pdb = change_coordinates(pdb, new_struct_xyz);\n",
    "   return pdb\n",
    "end\n",
    "#########"
   ]
  },
  {
   "cell_type": "code",
   "execution_count": 76,
   "metadata": {},
   "outputs": [
    {
     "data": {
      "text/plain": [
       "displaceAA (generic function with 1 method)"
      ]
     },
     "execution_count": 76,
     "metadata": {},
     "output_type": "execute_result"
    }
   ],
   "source": [
    "function displaceAA(in_frm, in_vec, step)\n",
    "    # Preparo variables\n",
    "    in_top = Topology(in_frm)\n",
    "    aa = convert(Int64, count_residues(in_top))\n",
    "    aa_3 = aa * 3\n",
    "    natoms = convert(Int64, size(in_top))\n",
    "    in_xyz = positions(in_frm)    \n",
    "    \n",
    "\t# Determino orden de residuos (hay q actualizar el Julia Chemfiles)\n",
    "    tmp = Array{Int64}(aa)\n",
    "    ids = Array{Int64}(aa)\n",
    "    [ ids[i+1] = convert(Int64, id((Residue(in_top, i)))) for i = 0:aa-1 ]\n",
    "    idx = sortperm(ids)\n",
    "    # Determino el nro de atomos de c/ aminoácido\n",
    "    [ tmp[i+1] = size(Residue(in_top, i)) for i = 0:aa-1 ]\n",
    "    natom_aa = tmp[idx]\n",
    "\n",
    "  \t# Adapto el vector p/ darle la misma forma q la matriz de coordenadas\n",
    "\tvector = Array{Float64}\n",
    "\ttmp_size = size(in_vec)[1]\n",
    "\n",
    "\tif tmp_size == aa_3\n",
    "\t\tvector = transpose(reshape(in_vec, 3, aa))\n",
    "\telseif tmp_size == aa\n",
    "\t\tvector = in_vec\n",
    "\telse\n",
    "\t\terror(\"Input vector with wrong dimensions: \", tmp_size, \"  \", (aa_3, 1))\n",
    "\tend\n",
    "\n",
    "\tsum_mat = Array{Float64}(3, natoms)\n",
    "\tcursor = 0\n",
    "   \tfor i = 1:aa\n",
    "\t\trango = Array{Int64}(natom_aa[i])\n",
    "    \tif i == 1\n",
    "\t\t\tsum_mat[:, 1:natom_aa[i]] = repmat(vector[1, :], 1, natom_aa[i])\n",
    "\t\t\tcursor = natom_aa[i]\n",
    "\t\t\tcontinue\n",
    "\t\tend\n",
    "\t\trango = collect(cursor+1:cursor + natom_aa[i])\n",
    "        sum_mat[:, rango] = repmat(vector[1, :], 1, natom_aa[i])\n",
    "\t\tcursor += natom_aa[i]\n",
    "\tend\n",
    "\n",
    "   # Listo, ahora puedo mover el pdb\n",
    "   out_xyz  = in_xyz + sum_mat .* step\n",
    "   return out_xyz\n",
    "end"
   ]
  },
  {
   "cell_type": "code",
   "execution_count": 141,
   "metadata": {},
   "outputs": [
    {
     "name": "stderr",
     "output_type": "stream",
     "text": [
      "\u001b[1m\u001b[33mWARNING: \u001b[39m\u001b[22m\u001b[33m[chemfiles] Unknown PDB record: MODEL        1\u001b[39m\n"
     ]
    },
    {
     "data": {
      "text/plain": [
       "1"
      ]
     },
     "execution_count": 141,
     "metadata": {},
     "output_type": "execute_result"
    }
   ],
   "source": [
    "in_pdb_filename = \"/home/german/labo/18/pava/1M14_A.pdb\"\n",
    "out_pdb_filename = \"/home/german/labo/18/pava/1M14_A.pdb\"\n",
    "in_trj = Trajectory(in_pdb_filename)\n",
    "in_frm = read(in_trj)\n",
    "in_vec = collect(1.0:831)\n",
    "step = 10.0\n",
    "cnt = 1"
   ]
  },
  {
   "cell_type": "code",
   "execution_count": 153,
   "metadata": {},
   "outputs": [
    {
     "data": {
      "text/plain": [
       "3×2224 Array{Float64,2}:\n",
       " 40.926  40.484  39.802  38.621  39.482  …  10.716  11.14   11.177   6.517\n",
       " -6.34   -7.629  -7.453  -7.113  -8.33      18.552  17.205  19.603  19.758\n",
       " 63.315  62.734  61.421  61.369  63.668     67.948  67.494  66.969  67.578"
      ]
     },
     "execution_count": 153,
     "metadata": {},
     "output_type": "execute_result"
    }
   ],
   "source": [
    "cnt+=1\n",
    "out_filename = string(cnt, \"_\", out_pdb_filename)\n",
    "out_trj = Trajectory(string(\"../\", out_filename), 'w')\n",
    "out_frm = deepcopy(in_frm)\n",
    "out_xyz = positions(out_frm)"
   ]
  },
  {
   "cell_type": "code",
   "execution_count": 154,
   "metadata": {},
   "outputs": [
    {
     "data": {
      "text/plain": [
       "3×2224 Array{Float64,2}:\n",
       " 50.926  50.484  49.802  48.621  49.482  …  20.716  21.14   21.177  16.517\n",
       " 13.66   12.371  12.547  12.887  11.67      38.552  37.205  39.603  39.758\n",
       " 93.315  92.734  91.421  91.369  93.668     97.948  97.494  96.969  97.578"
      ]
     },
     "execution_count": 154,
     "metadata": {},
     "output_type": "execute_result"
    }
   ],
   "source": [
    "out_xyz = displaceAA(in_frm, in_vec, step)"
   ]
  },
  {
   "cell_type": "code",
   "execution_count": 155,
   "metadata": {},
   "outputs": [
    {
     "data": {
      "text/plain": [
       "2224"
      ]
     },
     "execution_count": 155,
     "metadata": {},
     "output_type": "execute_result"
    }
   ],
   "source": [
    "convert(Int64, size(out_frm))"
   ]
  },
  {
   "cell_type": "code",
   "execution_count": 156,
   "metadata": {
    "collapsed": true
   },
   "outputs": [],
   "source": [
    "# Y guardo\n",
    "write(out_trj, out_frm)"
   ]
  },
  {
   "cell_type": "code",
   "execution_count": 157,
   "metadata": {},
   "outputs": [
    {
     "data": {
      "text/plain": [
       "\"4_1M14_A.pdb\""
      ]
     },
     "execution_count": 157,
     "metadata": {},
     "output_type": "execute_result"
    }
   ],
   "source": [
    "out_filename"
   ]
  },
  {
   "cell_type": "code",
   "execution_count": 231,
   "metadata": {},
   "outputs": [
    {
     "data": {
      "text/plain": [
       "3×2224 Array{Float64,2}:\n",
       " 40.926  40.484  39.802  38.621  39.482  …  10.716  11.14   11.177   6.517\n",
       " -6.34   -7.629  -7.453  -7.113  -8.33      18.552  17.205  19.603  19.758\n",
       " 63.315  62.734  61.421  61.369  63.668     67.948  67.494  66.969  67.578"
      ]
     },
     "execution_count": 231,
     "metadata": {},
     "output_type": "execute_result"
    }
   ],
   "source": [
    "in_trj = Trajectory(\"1M14_A.pdb\")\n",
    "in_frm = read(in_trj)\n",
    "\n",
    "positions(in_frm)"
   ]
  },
  {
   "cell_type": "code",
   "execution_count": 232,
   "metadata": {
    "collapsed": true
   },
   "outputs": [],
   "source": [
    "out_trj = Trajectory(\"11M14_A.pdb\", 'w')\n",
    "write(out_trj, in_frm)"
   ]
  },
  {
   "cell_type": "code",
   "execution_count": 234,
   "metadata": {},
   "outputs": [
    {
     "data": {
      "text/plain": [
       "3×8 Array{Float64,2}:\n",
       " 40.926  40.484  39.802  38.621  39.482  38.808   39.815   37.588\n",
       " -6.34   -7.629  -7.453  -7.113  -8.33   -9.558  -10.682  -10.016\n",
       " 63.315  62.734  61.421  61.369  63.668  63.028   62.752   63.845"
      ]
     },
     "execution_count": 234,
     "metadata": {},
     "output_type": "execute_result"
    }
   ],
   "source": [
    "in_trj_2 = Trajectory(\"aa.pdb\")\n",
    "in_frm_2= read(in_trj_2)\n",
    "\n",
    "positions(in_frm_2)"
   ]
  },
  {
   "cell_type": "code",
   "execution_count": 235,
   "metadata": {
    "collapsed": true
   },
   "outputs": [],
   "source": [
    "out_trj_2 = Trajectory(\"sal_aa.pdb\", 'w')\n",
    "write(out_trj_2, in_frm_2)"
   ]
  },
  {
   "cell_type": "code",
   "execution_count": 239,
   "metadata": {},
   "outputs": [
    {
     "data": {
      "text/plain": [
       "3×16 Array{Float64,2}:\n",
       " 40.926  40.484  39.802  38.621  39.482  …  40.854  40.4    40.924  38.893\n",
       " -6.34   -7.629  -7.453  -7.113  -8.33      -7.12   -6.512  -7.33   -6.308\n",
       " 63.315  62.734  61.421  61.369  63.668     57.932  56.6    55.469  56.509"
      ]
     },
     "execution_count": 239,
     "metadata": {},
     "output_type": "execute_result"
    }
   ],
   "source": [
    "in_trj_3 = Trajectory(\"raa.pdb\")\n",
    "in_frm_3= read(in_trj_3)\n",
    "\n",
    "positions(in_frm_3)"
   ]
  },
  {
   "cell_type": "code",
   "execution_count": 241,
   "metadata": {},
   "outputs": [],
   "source": [
    "out_trj_3 = Trajectory(\"rraa.pdb\", 'w')\n",
    "write(out_trj_3, in_frm_3)"
   ]
  },
  {
   "cell_type": "code",
   "execution_count": 242,
   "metadata": {},
   "outputs": [
    {
     "data": {
      "text/plain": [
       "3×61 Array{Float64,2}:\n",
       " 40.926  40.484  39.802  38.621  …   31.217   30.501   29.512   30.912\n",
       " -6.34   -7.629  -7.453  -7.113     -16.497  -15.17   -14.895  -14.414\n",
       " 63.315  62.734  61.421  61.369      46.188   45.963   46.681   45.052"
      ]
     },
     "execution_count": 242,
     "metadata": {},
     "output_type": "execute_result"
    }
   ],
   "source": [
    "in_trj_4 = Trajectory(\"saa.pdb\")\n",
    "in_frm_4= read(in_trj_4)\n",
    "\n",
    "positions(in_frm_4)"
   ]
  },
  {
   "cell_type": "code",
   "execution_count": 243,
   "metadata": {
    "collapsed": true
   },
   "outputs": [],
   "source": [
    "out_trj_4 = Trajectory(\"ssaa.pdb\", 'w')\n",
    "write(out_trj_4, in_frm_4)"
   ]
  },
  {
   "cell_type": "code",
   "execution_count": 244,
   "metadata": {},
   "outputs": [
    {
     "data": {
      "text/plain": [
       "3×474 Array{Float64,2}:\n",
       " 40.926  40.484  39.802  38.621  39.482  …  34.066  32.942  33.226  31.77 \n",
       " -6.34   -7.629  -7.453  -7.113  -8.33       2.789   2.828   3.056   2.643\n",
       " 63.315  62.734  61.421  61.369  63.668     53.045  52.02   50.825  52.418"
      ]
     },
     "execution_count": 244,
     "metadata": {},
     "output_type": "execute_result"
    }
   ],
   "source": [
    "in_trj_5 = Trajectory(\"faa.pdb\")\n",
    "in_frm_5= read(in_trj_5)\n",
    "\n",
    "positions(in_frm_5)"
   ]
  },
  {
   "cell_type": "code",
   "execution_count": 245,
   "metadata": {
    "collapsed": true
   },
   "outputs": [],
   "source": [
    "out_trj_5 = Trajectory(\"ffaa.pdb\", 'w')\n",
    "write(out_trj_5, in_frm_5)"
   ]
  }
 ],
 "metadata": {
  "kernelspec": {
   "display_name": "Julia 0.6.0",
   "language": "julia",
   "name": "julia-0.6"
  },
  "language_info": {
   "file_extension": ".jl",
   "mimetype": "application/julia",
   "name": "julia",
   "version": "0.6.0"
  }
 },
 "nbformat": 4,
 "nbformat_minor": 2
}
